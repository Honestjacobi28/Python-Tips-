{
 "cells": [
  {
   "cell_type": "markdown",
   "id": "c4710244-00bc-448f-ad8f-b5e01929ab67",
   "metadata": {},
   "source": [
    "# Le Swapping Pythonic\n",
    "\n",
    "Cette astuce utilise la syntaxe **a, b = b, a** pour échanger les valeurs de a et b sans avoir besoin d’une **variable temporaire**."
   ]
  },
  {
   "cell_type": "code",
   "execution_count": 1,
   "id": "216ea9ae-71c4-437d-9746-29b4758d6808",
   "metadata": {},
   "outputs": [
    {
     "name": "stdout",
     "output_type": "stream",
     "text": [
      "a : 10\n",
      "b : 5\n"
     ]
    }
   ],
   "source": [
    "# Avant le swapping\n",
    "a = 5\n",
    "b = 10\n",
    "\n",
    "# Swapping Pythonic\n",
    "a, b = b, a\n",
    "\n",
    "# Après le swapping\n",
    "print(\"a :\", a) # Maintenant, a vaut 10\n",
    "print(\"b :\", b) # Maintenant, b vaut 5"
   ]
  },
  {
   "cell_type": "markdown",
   "id": "6c285762-241e-4aed-98dc-5e6c7950da57",
   "metadata": {},
   "source": [
    "# List Comprehension Magic\n",
    "permet  de créer une une liste à partir d'une autre de manière ([for à interieur de crocher])"
   ]
  },
  {
   "cell_type": "code",
   "execution_count": 3,
   "id": "ff789dc7-feb7-4a6f-9dac-3b66f9cfb523",
   "metadata": {},
   "outputs": [],
   "source": [
    "# Avant la List Comprehension\n",
    "squares = [ ]\n",
    "for x in range(1, 6):\n",
    "  squares.append(x**2)"
   ]
  },
  {
   "cell_type": "code",
   "execution_count": 4,
   "id": "8e396714-7b6f-4302-b480-b08ae43c826a",
   "metadata": {},
   "outputs": [
    {
     "data": {
      "text/plain": [
       "[1, 4, 9, 16, 25]"
      ]
     },
     "execution_count": 4,
     "metadata": {},
     "output_type": "execute_result"
    }
   ],
   "source": [
    "squares"
   ]
  },
  {
   "cell_type": "code",
   "execution_count": 11,
   "id": "b6820c14-9ae9-4cb4-a6b9-d6a902d28daa",
   "metadata": {},
   "outputs": [],
   "source": [
    "# Avec List Comprehension\n",
    "squares=[x**2 for x in range(1,6)]"
   ]
  },
  {
   "cell_type": "code",
   "execution_count": 12,
   "id": "9157dc67-3f39-4a88-a551-8fb80475ed77",
   "metadata": {},
   "outputs": [
    {
     "data": {
      "text/plain": [
       "[1, 4, 9, 16, 25]"
      ]
     },
     "execution_count": 12,
     "metadata": {},
     "output_type": "execute_result"
    }
   ],
   "source": [
    "squares"
   ]
  },
  {
   "cell_type": "markdown",
   "id": "128c318f-cb25-4898-91e4-e1e8a7964d41",
   "metadata": {},
   "source": [
    "# Les Fonctions Lambda\n",
    "petite fonction rapide sans definition formelle "
   ]
  },
  {
   "cell_type": "code",
   "execution_count": 14,
   "id": "3f694b5e-f611-4562-8875-3e98bbdac3a4",
   "metadata": {},
   "outputs": [],
   "source": [
    "# Fonction normale\n",
    "def addition(a, b):\n",
    " return a + b"
   ]
  },
  {
   "cell_type": "code",
   "execution_count": 15,
   "id": "8759a50f-d9a4-4e48-86b3-7f3b2a665031",
   "metadata": {},
   "outputs": [],
   "source": [
    "# Fonction equivalent avec lamda\n",
    "addition_lambda = lambda a, b: a + b"
   ]
  },
  {
   "cell_type": "code",
   "execution_count": 16,
   "id": "b52e923d-7799-4cce-99f1-940a39e77579",
   "metadata": {},
   "outputs": [
    {
     "name": "stdout",
     "output_type": "stream",
     "text": [
      "7\n"
     ]
    }
   ],
   "source": [
    "somme=addition_lambda(2,5)\n",
    "print(somme)"
   ]
  },
  {
   "cell_type": "markdown",
   "id": "e86fff4b-60ea-49a3-9e42-97207e5a6890",
   "metadata": {},
   "source": [
    "# Déballage d'Arguments\n",
    "\n",
    "permet de passer une liste ou un dictionnaire comme arguments de fonction.\n",
    "Il  rend la manipulation de listes et de dictionnaires plus fluide lors de l’appel de fonctions."
   ]
  },
  {
   "cell_type": "code",
   "execution_count": 18,
   "id": "ae118ebc-2797-4cb7-bb81-84e41d3cc256",
   "metadata": {},
   "outputs": [],
   "source": [
    "# Utilisation de *args pour déballer une liste\n",
    "def addition(a, b, c):\n",
    "  return a + b + c"
   ]
  },
  {
   "cell_type": "code",
   "execution_count": 19,
   "id": "212e6d26-397e-46dc-9245-119d9ade9b81",
   "metadata": {},
   "outputs": [
    {
     "name": "stdout",
     "output_type": "stream",
     "text": [
      "6\n"
     ]
    }
   ],
   "source": [
    "arguments = [1, 2, 3]\n",
    "result = addition(*arguments)\n",
    "print(result) # Output: 6"
   ]
  },
  {
   "cell_type": "code",
   "execution_count": 21,
   "id": "4b49339d-5c54-411f-a954-41b7ebfe1316",
   "metadata": {},
   "outputs": [],
   "source": [
    "# Utilisation de **kwargs pour déballer un dictionnaire\n",
    "def multiplication(x, y):\n",
    " return x * y"
   ]
  },
  {
   "cell_type": "code",
   "execution_count": 22,
   "id": "f2580363-57c2-4df0-9adb-d89e9d1fb356",
   "metadata": {},
   "outputs": [
    {
     "name": "stdout",
     "output_type": "stream",
     "text": [
      "15\n"
     ]
    }
   ],
   "source": [
    "arguments_dict = {'x': 5, 'y': 3}\n",
    "result = multiplication(**arguments_dict)\n",
    "print(result) # Output: 15"
   ]
  },
  {
   "cell_type": "markdown",
   "id": "938dede9-b248-40ed-85a7-4c1d93a20555",
   "metadata": {},
   "source": [
    "# La Gestion Élégante des Fichiers avec with\n",
    "with permet de fermer automatiquement  le ficher après son utilisation, la fermeture auto avec with est plus propre et sur"
   ]
  },
  {
   "cell_type": "code",
   "execution_count": 25,
   "id": "8a86d74d-ccf9-42b0-89bd-26c9d484cb79",
   "metadata": {},
   "outputs": [],
   "source": [
    "# Sans 'with'\n",
    "file = open('example.txt', 'r')\n",
    "content = file.read()\n",
    "file.close()"
   ]
  },
  {
   "cell_type": "code",
   "execution_count": 28,
   "id": "2daea2a8-0a6e-428e-af0a-f0ba3fdc8031",
   "metadata": {},
   "outputs": [],
   "source": [
    "# Avec 'with'\n",
    "with open('example.txt', 'r') as file:\n",
    "  content = file.read()\n",
    "# Le fichier est automatiquement fermé à la sortie du bloc 'with'"
   ]
  },
  {
   "cell_type": "code",
   "execution_count": 29,
   "id": "e45bb970-01bc-482b-8a90-15c3a148d23d",
   "metadata": {},
   "outputs": [
    {
     "name": "stdout",
     "output_type": "stream",
     "text": [
      "papa mange du foutou\n"
     ]
    }
   ],
   "source": [
    "# Utilisation du contenu du fichier\n",
    "print(content)"
   ]
  },
  {
   "cell_type": "markdown",
   "id": "789d8b1d-59df-45ce-b72e-54ce5c7e2814",
   "metadata": {},
   "source": [
    "# Les Énumérations\n",
    "permettent de créer des ensensembles de constantes.\n",
    "fournissent une manière propre et sûre de représenter des constantes dans ton code."
   ]
  },
  {
   "cell_type": "code",
   "execution_count": 31,
   "id": "c6a07b1b-804b-4dd1-8e03-9b8439d37360",
   "metadata": {},
   "outputs": [],
   "source": [
    "from enum import Enum\n",
    "\n",
    "class Couleurs(Enum):\n",
    "    ROUGE = 1\n",
    "    VERT = 2\n",
    "    BLEU = 3"
   ]
  },
  {
   "cell_type": "code",
   "execution_count": 35,
   "id": "1aa33175-4f48-42ac-bfca-86d053403bfd",
   "metadata": {},
   "outputs": [
    {
     "name": "stdout",
     "output_type": "stream",
     "text": [
      "Couleurs.ROUGE\n"
     ]
    }
   ],
   "source": [
    "selected_color = Couleurs.ROUGE\n",
    "print(selected_color) # Output: Couleurs.ROUGE"
   ]
  },
  {
   "cell_type": "markdown",
   "id": "c4522388-fd07-4d9d-8808-8a4778ce01de",
   "metadata": {},
   "source": [
    "# Le Module collections \n",
    "Quand tu as besoin de structures de données plus avancées que les listes et les dictionnaires standards.\n",
    "Astuce : Explorer le module collections pour des structures de données comme les tuples nommés, les files d’attente et les compteurs."
   ]
  },
  {
   "cell_type": "code",
   "execution_count": 36,
   "id": "41852426-d337-4abd-b886-81b757f96c42",
   "metadata": {},
   "outputs": [],
   "source": [
    "from collections import namedtuple, deque, Counter"
   ]
  },
  {
   "cell_type": "code",
   "execution_count": 41,
   "id": "3ef0c274-fe4c-41e8-9c81-07bb54a5bd7b",
   "metadata": {},
   "outputs": [
    {
     "name": "stdout",
     "output_type": "stream",
     "text": [
      "Alice 30\n"
     ]
    }
   ],
   "source": [
    "# Tuple nommé\n",
    "Personne = namedtuple('Personne', ['nom', 'age'])\n",
    "personne = Personne('Alice', 30)\n",
    "print(personne.nom, personne.age) # Output: Alice 30"
   ]
  },
  {
   "cell_type": "code",
   "execution_count": 42,
   "id": "1aa2fc4d-fa1f-4b68-8f5a-2b7ad11ff684",
   "metadata": {},
   "outputs": [
    {
     "name": "stdout",
     "output_type": "stream",
     "text": [
      "deque([1, 2, 3, 4])\n"
     ]
    }
   ],
   "source": [
    "# File d'attente\n",
    "file_attente = deque([1, 2, 3])\n",
    "file_attente.append(4)\n",
    "print(file_attente)"
   ]
  },
  {
   "cell_type": "code",
   "execution_count": 43,
   "id": "4018b3f2-d54f-4413-879d-66890636415f",
   "metadata": {},
   "outputs": [
    {
     "name": "stdout",
     "output_type": "stream",
     "text": [
      "deque([2, 3, 4])\n"
     ]
    }
   ],
   "source": [
    "file_attente.popleft()\n",
    "print(file_attente) # Output: deque([2, 3, 4])"
   ]
  },
  {
   "cell_type": "code",
   "execution_count": 44,
   "id": "2e55a262-ac6a-4864-a3f1-06876d8c8368",
   "metadata": {},
   "outputs": [
    {
     "name": "stdout",
     "output_type": "stream",
     "text": [
      "Counter({1: 3, 2: 2, 3: 2, 4: 1})\n"
     ]
    }
   ],
   "source": [
    "# Compteur\n",
    "elements = [1, 2, 3, 1, 2, 1, 3, 4]\n",
    "compteur = Counter(elements)\n",
    "print(compteur) # Output: Counter({1: 3, 2: 2, 3: 2, 4: 1})"
   ]
  },
  {
   "cell_type": "markdown",
   "id": "c8becec3-7088-4484-92e1-6f122014ce20",
   "metadata": {},
   "source": [
    "# Utilisation Astucieuse de zip\n",
    "Lorsque tu as besoin de parcourir plusieurs listes simultanément."
   ]
  },
  {
   "cell_type": "code",
   "execution_count": 45,
   "id": "da62ba5e-2399-42c7-a5ea-112bc4deea97",
   "metadata": {},
   "outputs": [],
   "source": [
    "noms = ['Alice', 'Bob', 'Charlie']\n",
    "ages = [25, 30, 35]"
   ]
  },
  {
   "cell_type": "code",
   "execution_count": 46,
   "id": "10c044ff-91b9-41ce-baad-0c836957ea93",
   "metadata": {},
   "outputs": [
    {
     "name": "stdout",
     "output_type": "stream",
     "text": [
      "Alice a 25 ans\n",
      "Bob a 30 ans\n",
      "Charlie a 35 ans\n"
     ]
    }
   ],
   "source": [
    "# sans zip\n",
    "for i in range(len(noms)):\n",
    "    print(f\"{noms[i]} a {ages[i]} ans\")"
   ]
  },
  {
   "cell_type": "code",
   "execution_count": 47,
   "id": "84a67472-5edb-44c5-89d4-963e5bd7f842",
   "metadata": {},
   "outputs": [
    {
     "name": "stdout",
     "output_type": "stream",
     "text": [
      "Alice a 25 ans\n",
      "Bob a 30 ans\n",
      "Charlie a 35 ans\n"
     ]
    }
   ],
   "source": [
    "# Avec zip\n",
    "for nom, age in zip(noms, ages):\n",
    "    print(f\"{nom} a {age} ans\")"
   ]
  },
  {
   "cell_type": "markdown",
   "id": "83be1d6e-8e90-46a6-9e27-1d6d0f7fac46",
   "metadata": {},
   "source": [
    "# La Magie des Décorateurs\n",
    "Quand tu veux ajouter une fonctionnalité à une fonction existante sans la modifier directement."
   ]
  },
  {
   "cell_type": "code",
   "execution_count": 56,
   "id": "0f27214f-b29f-4776-9da9-7f977ec7975d",
   "metadata": {},
   "outputs": [],
   "source": [
    "# Décorateur simple\n",
    "def decorateur(func):\n",
    "    def nouvelle_fonction():\n",
    "        print(\"Avant l'appel de la fonction\")\n",
    "        func()\n",
    "        print(\"Après l'appel de la fonction\")\n",
    "    return nouvelle_fonction\n"
   ]
  },
  {
   "cell_type": "code",
   "execution_count": 57,
   "id": "720e177d-ff2e-4abd-ac08-2fa3fcaf6028",
   "metadata": {},
   "outputs": [],
   "source": [
    "@decorateur\n",
    "def ma_fonction():\n",
    "    print(\"À l'intérieur de la fonction\")"
   ]
  },
  {
   "cell_type": "code",
   "execution_count": 58,
   "id": "827ef8a4-5f79-4a26-a261-3855b153d510",
   "metadata": {},
   "outputs": [
    {
     "name": "stdout",
     "output_type": "stream",
     "text": [
      "Avant l'appel de la fonction\n",
      "À l'intérieur de la fonction\n",
      "Après l'appel de la fonction\n"
     ]
    }
   ],
   "source": [
    "# Appel de la fonction décorée\n",
    "ma_fonction()"
   ]
  },
  {
   "cell_type": "code",
   "execution_count": 59,
   "id": "ce39d4be-1cd7-4111-b979-19b9fe194ed4",
   "metadata": {},
   "outputs": [
    {
     "name": "stdout",
     "output_type": "stream",
     "text": [
      "Avant l'appel de la fonction\n",
      "À l'intérieur de la fonction\n",
      "Après l'appel de la fonction\n"
     ]
    }
   ],
   "source": [
    "# Décorateur simple\n",
    "def decorateur(func):\n",
    "    def nouvelle_fonction():\n",
    "        print(\"Avant l'appel de la fonction\")\n",
    "        func()\n",
    "        print(\"Après l'appel de la fonction\")\n",
    "    return nouvelle_fonction\n",
    "\n",
    "@decorateur\n",
    "def ma_fonction():\n",
    "    print(\"À l'intérieur de la fonction\")\n",
    "\n",
    "# Appel de la fonction décorée\n",
    "ma_fonction()\n"
   ]
  },
  {
   "cell_type": "markdown",
   "id": "67ed72bb-4a30-4702-9038-2c97ca81f61a",
   "metadata": {},
   "source": [
    "# Les Expressions Conditionnelles Ternaires"
   ]
  },
  {
   "cell_type": "code",
   "execution_count": 63,
   "id": "bbc26696-a7cc-4b03-b5fa-a40d7cdf6f62",
   "metadata": {},
   "outputs": [
    {
     "name": "stdout",
     "output_type": "stream",
     "text": [
      "positif\n"
     ]
    }
   ],
   "source": [
    "# Conditionnelle traditionnelle\n",
    "a = 5\n",
    "if a > 0:\n",
    "    signe = 'positif'\n",
    "    print(signe)\n",
    "else:\n",
    "    signe = 'négatif'\n",
    "    print(signe)"
   ]
  },
  {
   "cell_type": "code",
   "execution_count": 64,
   "id": "01167b7a-4f38-49fc-b0ce-c829992a6001",
   "metadata": {},
   "outputs": [],
   "source": [
    "# Conditionnelle ternaire\n",
    "signe = 'positif' if a > 0 else 'négatif'"
   ]
  },
  {
   "cell_type": "code",
   "execution_count": 65,
   "id": "6a2b26bf-2330-44dc-aa51-7ee8466d3ecb",
   "metadata": {},
   "outputs": [
    {
     "name": "stdout",
     "output_type": "stream",
     "text": [
      "positif\n"
     ]
    }
   ],
   "source": [
    "print(signe)"
   ]
  },
  {
   "cell_type": "code",
   "execution_count": null,
   "id": "8861ed15-1378-4112-8c5e-fe25b7dbbb70",
   "metadata": {},
   "outputs": [],
   "source": []
  }
 ],
 "metadata": {
  "kernelspec": {
   "display_name": "Python 3 (ipykernel)",
   "language": "python",
   "name": "python3"
  },
  "language_info": {
   "codemirror_mode": {
    "name": "ipython",
    "version": 3
   },
   "file_extension": ".py",
   "mimetype": "text/x-python",
   "name": "python",
   "nbconvert_exporter": "python",
   "pygments_lexer": "ipython3",
   "version": "3.9.18"
  }
 },
 "nbformat": 4,
 "nbformat_minor": 5
}
