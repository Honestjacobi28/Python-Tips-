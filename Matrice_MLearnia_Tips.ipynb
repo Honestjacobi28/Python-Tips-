{
 "cells": [
  {
   "cell_type": "code",
   "execution_count": 1,
   "id": "a4b2b513-4c21-4df1-9ad6-7207c7321c96",
   "metadata": {},
   "outputs": [],
   "source": [
    "# la ligne suivante charge le package numpy pour accéder aux fonctionnalités\n",
    "import numpy as np"
   ]
  },
  {
   "cell_type": "code",
   "execution_count": 4,
   "id": "0bdcc4c7-6f19-4954-849b-8226ed22ad08",
   "metadata": {},
   "outputs": [
    {
     "name": "stdout",
     "output_type": "stream",
     "text": [
      "A = [[1 2]\n",
      " [3 4]\n",
      " [5 6]]\n"
     ]
    }
   ],
   "source": [
    "# Création d'une matrice (3, 2)\n",
    "A = np.array([ [1, 2], [3, 4], [5, 6]])\n",
    "print('A =', A) # afficher la matrice A"
   ]
  },
  {
   "cell_type": "code",
   "execution_count": 5,
   "id": "e6a87194-6ad4-44e6-b0ff-8cc3edece767",
   "metadata": {},
   "outputs": [
    {
     "name": "stdout",
     "output_type": "stream",
     "text": [
      "dimensions de A: (3, 2)\n"
     ]
    }
   ],
   "source": [
    "# afficher les dimensions de A\n",
    "print('dimensions de A:', A.shape)"
   ]
  },
  {
   "cell_type": "code",
   "execution_count": 6,
   "id": "6f1d1f1e-db04-4971-9f53-e5820d91839a",
   "metadata": {},
   "outputs": [
    {
     "name": "stdout",
     "output_type": "stream",
     "text": [
      "B = [[1 3 5]\n",
      " [2 4 6]]\n",
      "dimensions de B : (2, 3)\n"
     ]
    }
   ],
   "source": [
    "# Transposée de A\n",
    "B = A.T\n",
    "print('B =',B)\n",
    "print('dimensions de B :', B.shape)"
   ]
  },
  {
   "cell_type": "code",
   "execution_count": 7,
   "id": "bd6522a5-dadb-4244-a45a-9cac2bf1feee",
   "metadata": {},
   "outputs": [],
   "source": [
    "# Création d'une matrice B remplie de \"1\"\n",
    "C = np.ones((3, 2))"
   ]
  },
  {
   "cell_type": "code",
   "execution_count": 9,
   "id": "eb92b969-f1c0-4598-834a-c9c475c67f3f",
   "metadata": {},
   "outputs": [
    {
     "data": {
      "text/plain": [
       "array([[1., 1.],\n",
       "       [1., 1.],\n",
       "       [1., 1.]])"
      ]
     },
     "execution_count": 9,
     "metadata": {},
     "output_type": "execute_result"
    }
   ],
   "source": [
    "C"
   ]
  },
  {
   "cell_type": "code",
   "execution_count": 10,
   "id": "7f494877-4a59-4aa3-a639-bfcdf11dfc7d",
   "metadata": {},
   "outputs": [
    {
     "name": "stdout",
     "output_type": "stream",
     "text": [
      "C = [[1. 1.]\n",
      " [1. 1.]\n",
      " [1. 1.]]\n",
      "dimensions de C: (3, 2)\n"
     ]
    }
   ],
   "source": [
    "# addition de A par B\n",
    "D = A + C\n",
    "print('C =', C)\n",
    "print('dimensions de C:', C.shape)"
   ]
  },
  {
   "cell_type": "code",
   "execution_count": 11,
   "id": "0cbeaa23-bf8e-4967-918c-e57187f6dfd5",
   "metadata": {},
   "outputs": [
    {
     "name": "stdout",
     "output_type": "stream",
     "text": [
      "E = [[ 5 11 17]\n",
      " [11 25 39]\n",
      " [17 39 61]]\n",
      "dimensions de E: (3, 3)\n"
     ]
    }
   ],
   "source": [
    "# mutiplication de A (3, 2) par B (2, 3)\n",
    "\n",
    "E = A.dot(B)\n",
    "print('E =', E)\n",
    "print('dimensions de E:',E.shape)"
   ]
  },
  {
   "cell_type": "code",
   "execution_count": null,
   "id": "7b5c7202-7121-4011-bb6f-1e53121b8447",
   "metadata": {},
   "outputs": [],
   "source": []
  }
 ],
 "metadata": {
  "kernelspec": {
   "display_name": "Python 3 (ipykernel)",
   "language": "python",
   "name": "python3"
  },
  "language_info": {
   "codemirror_mode": {
    "name": "ipython",
    "version": 3
   },
   "file_extension": ".py",
   "mimetype": "text/x-python",
   "name": "python",
   "nbconvert_exporter": "python",
   "pygments_lexer": "ipython3",
   "version": "3.9.18"
  }
 },
 "nbformat": 4,
 "nbformat_minor": 5
}
